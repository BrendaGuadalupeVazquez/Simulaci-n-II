{
  "nbformat": 4,
  "nbformat_minor": 0,
  "metadata": {
    "colab": {
      "provenance": [],
      "authorship_tag": "ABX9TyOJH1ihiGSFDrg5ELTLlCvv",
      "include_colab_link": true
    },
    "kernelspec": {
      "name": "python3",
      "display_name": "Python 3"
    },
    "language_info": {
      "name": "python"
    }
  },
  "cells": [
    {
      "cell_type": "markdown",
      "metadata": {
        "id": "view-in-github",
        "colab_type": "text"
      },
      "source": [
        "<a href=\"https://colab.research.google.com/github/BrendaGuadalupeVazquez/Simulaci-n-II/blob/main/VariablesAntiteticas.ipynb\" target=\"_parent\"><img src=\"https://colab.research.google.com/assets/colab-badge.svg\" alt=\"Open In Colab\"/></a>"
      ]
    },
    {
      "cell_type": "markdown",
      "source": [
        "##**REDUCCIÓN DE VARIANZAS**\n",
        "\n",
        "---\n",
        "\n",
        "##Variables Antitéticas\n",
        "\n",
        "Este método utiliza dos pares de números aleatorios R y 1-R en lugar de dos números aleatorios independientes, para así lograr que los valores estén más equilibrados y con eso poder reducir la varianza.\n",
        "\n"
      ],
      "metadata": {
        "id": "0dqZhzq-ibW-"
      }
    },
    {
      "cell_type": "code",
      "source": [
        "import numpy as np\n",
        "import matplotlib.pyplot as plt\n",
        "import random as rd"
      ],
      "metadata": {
        "id": "ALtHW1N7gRXI"
      },
      "execution_count": 1,
      "outputs": []
    },
    {
      "cell_type": "code",
      "source": [
        "def g(x):\n",
        "  return np.sqrt(np.arctan(x))"
      ],
      "metadata": {
        "id": "twCZr6pegVTm"
      },
      "execution_count": 2,
      "outputs": []
    },
    {
      "cell_type": "code",
      "execution_count": 4,
      "metadata": {
        "colab": {
          "base_uri": "https://localhost:8080/"
        },
        "id": "hAS3MSF2f0ZF",
        "outputId": "a0b8afc8-7de2-40bd-b86b-8503d57a9885"
      },
      "outputs": [
        {
          "output_type": "stream",
          "name": "stdout",
          "text": [
            "Promedio de estimaciones:  0.6299579735527434 \n",
            "Varianza:  4.546877068750861e-05 \n",
            "Desviación estándar:  0.006743053513617448\n"
          ]
        }
      ],
      "source": [
        "def MC_MediaMuestral(N):\n",
        "  lista=[]\n",
        "  for i in range(N):\n",
        "    x=rd.random()\n",
        "    lista.append(g(x))\n",
        "  return np.mean(lista),np.var(lista),np.std(lista),lista\n",
        "M = 500\n",
        "N = 1000\n",
        "resultados=[]\n",
        "for i in range(M):\n",
        "  r=MC_MediaMuestral(N)\n",
        "  resultados.append(r[0])\n",
        "p=np.mean(resultados)\n",
        "v=np.var(resultados)\n",
        "d=np.std(resultados)\n",
        "print(\"Promedio de estimaciones: \",p,\"\\nVarianza: \",v,\"\\nDesviación estándar: \",d)\n"
      ]
    },
    {
      "cell_type": "markdown",
      "source": [
        "El MC crudo aplicando variables antitéticas, quedaría de la siguiente manera"
      ],
      "metadata": {
        "id": "EZW8NIRHkREC"
      }
    },
    {
      "cell_type": "code",
      "source": [
        "def MC_A(N):\n",
        "  lista=[]\n",
        "  for i in range(N):\n",
        "    u=rd.random()\n",
        "    x1=g(u)\n",
        "    x2=g(1-u)\n",
        "    lista.append((x1+x2)/2)\n",
        "  return np.mean(lista),np.var(lista),np.std(lista),lista\n",
        "M=500\n",
        "N=1000\n",
        "resultados_ant=[]\n",
        "for i in range(M):\n",
        "  r=MC_A(N)\n",
        "  resultados_ant.append(r[0])\n",
        "pa=np.mean(resultados_ant)\n",
        "va=np.var(resultados_ant)\n",
        "da=np.std(resultados_ant)\n",
        "print(\"Promedio con antitéticas:\",pa,\"\\nVarianza:\",va,\"\\nDesviación estándar:\",da)\n"
      ],
      "metadata": {
        "colab": {
          "base_uri": "https://localhost:8080/"
        },
        "id": "qDEXWjSJhmUW",
        "outputId": "066483dd-33fe-4564-ac0d-a029956addba"
      },
      "execution_count": 5,
      "outputs": [
        {
          "output_type": "stream",
          "name": "stdout",
          "text": [
            "Promedio con antitéticas: 0.6297125428560612 \n",
            "Varianza: 2.9380891837247207e-06 \n",
            "Desviación estándar: 0.0017140855240403614\n"
          ]
        }
      ]
    },
    {
      "cell_type": "markdown",
      "source": [
        "Comparación entre el MC crudo y MC crudo con variables antitéticas"
      ],
      "metadata": {
        "id": "ihPPRH5Qj-XG"
      }
    },
    {
      "cell_type": "code",
      "source": [
        "reduccion=((v-va)/v)*100\n",
        "print(\"Reducción porcentual de varianza:\",reduccion,\"%\")"
      ],
      "metadata": {
        "colab": {
          "base_uri": "https://localhost:8080/"
        },
        "id": "s3CHdK7tiEuF",
        "outputId": "0ac1e4f3-f3f6-4201-cb99-70ef7dd52a9d"
      },
      "execution_count": 8,
      "outputs": [
        {
          "output_type": "stream",
          "name": "stdout",
          "text": [
            "Reducción porcentual de varianza: 93.53822604108387 %\n"
          ]
        }
      ]
    },
    {
      "cell_type": "markdown",
      "source": [
        "\n",
        "\n",
        "---\n",
        "\n",
        "##¿Se puede aplicar este método para Acierto y Error?\n",
        "\n",
        "Para el caso de variables antitéticas en el método de acierto y error, no se\n",
        "pudiera aplicar, ya que no podríamos asegurar en todos los casos, que los pares de puntos estén correlacionados, al ser números aleatorios únicamente nos interesaba saber cuántos puntos caían debajo de  la curva y con eso hacer una estimación, aqui es importante que los puntitos que utilicemos sean R y 1-R."
      ],
      "metadata": {
        "id": "DiE9wngulN1e"
      }
    }
  ]
}