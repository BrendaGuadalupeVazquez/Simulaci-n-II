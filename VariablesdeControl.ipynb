{
  "nbformat": 4,
  "nbformat_minor": 0,
  "metadata": {
    "colab": {
      "provenance": [],
      "authorship_tag": "ABX9TyMoNk9v9VEhtHtBVrtfjfJI",
      "include_colab_link": true
    },
    "kernelspec": {
      "name": "python3",
      "display_name": "Python 3"
    },
    "language_info": {
      "name": "python"
    }
  },
  "cells": [
    {
      "cell_type": "markdown",
      "metadata": {
        "id": "view-in-github",
        "colab_type": "text"
      },
      "source": [
        "<a href=\"https://colab.research.google.com/github/BrendaGuadalupeVazquez/Simulaci-n-II/blob/main/VariablesdeControl.ipynb\" target=\"_parent\"><img src=\"https://colab.research.google.com/assets/colab-badge.svg\" alt=\"Open In Colab\"/></a>"
      ]
    },
    {
      "cell_type": "markdown",
      "source": [
        "##**Reducción de varianza: Variables de control**\n",
        "\n"
      ],
      "metadata": {
        "id": "GX7rZO6ai4-L"
      }
    },
    {
      "cell_type": "code",
      "execution_count": 1,
      "metadata": {
        "id": "4zVzWKmLeSTN"
      },
      "outputs": [],
      "source": [
        "import numpy as np\n",
        "import random as rd"
      ]
    },
    {
      "cell_type": "markdown",
      "source": [
        "Queremos estimar la siguiente integral:\n",
        "$$\\int_0^1 \\frac{1}{1+x^2} dx$$\n",
        "Donde usando MC crudo tendriamos:\n",
        "$$X= \\frac{\\frac{1}{1+u_1^2}+\\frac{1}{1+u_2^2}+...+\\frac{1}{1+u_n^2}}{n}$$\n",
        "donde $u_i~U(0,1),i=1,2,...,n$\n",
        "Podemos usar de variable de control:\n",
        "$$Y=\\frac{U_1+U_2+...+U_N}{n}$$\n",
        "\n",
        "Comprobar que\n",
        "$$Cov(X,Y)=\\frac{\\frac{log(2)}{2}-\\frac{\\pi}{8}}{n}$$\n",
        "con $c=-12\\frac{log(2)}{2}-\\frac{\\pi}{8}\\approx 0.5535$"
      ],
      "metadata": {
        "id": "n7cx2u0Un1u5"
      }
    },
    {
      "cell_type": "code",
      "source": [
        "def f(x):\n",
        "    return 1/(1+x**2)"
      ],
      "metadata": {
        "id": "Vp625eWLshza"
      },
      "execution_count": 16,
      "outputs": []
    },
    {
      "cell_type": "code",
      "source": [
        "def integral(f=f,n=1000):\n",
        "  lista=[]\n",
        "  l=[]\n",
        "  for i in range(n):\n",
        "    u= np.random.random_sample()\n",
        "    lista.append(u)\n",
        "    y=f(u)\n",
        "    l.append(y)\n",
        "  return np.mean(l), np.std(l)/np.sqrt(n)\n",
        "print(\"El resultado de la integral es:\",integral()[0])\n",
        "print(\"Su error estándar es:\",integral()[1])"
      ],
      "metadata": {
        "colab": {
          "base_uri": "https://localhost:8080/"
        },
        "id": "QmPnyhEqs1yl",
        "outputId": "2f933870-348e-482b-9441-471a8ef17650"
      },
      "execution_count": 23,
      "outputs": [
        {
          "output_type": "stream",
          "name": "stdout",
          "text": [
            "El resultado de la integral es: 0.7864999040669314\n",
            "Su error estándar es: 0.005180467067449484\n"
          ]
        }
      ]
    },
    {
      "cell_type": "code",
      "source": [
        "def Var_cont(f=f,n=1000):\n",
        "  Lista=[]\n",
        "  L=[]\n",
        "  for i in range(n):\n",
        "      u=np.random.random_sample()\n",
        "      Lista.append(u)\n",
        "      y=f(u)+0.5535*(u-0.5)\n",
        "      L.append(y)\n",
        "  return np.mean(L),np.std(L)/np.sqrt(n)\n",
        "print(\"El valor de la integral es:\",Var_cont()[0])\n",
        "print(\"El error estándar es:\",Var_cont()[1])"
      ],
      "metadata": {
        "colab": {
          "base_uri": "https://localhost:8080/"
        },
        "id": "bNpWADySv7T7",
        "outputId": "4261d812-0240-4efd-a3c0-c124e6bb25db"
      },
      "execution_count": 25,
      "outputs": [
        {
          "output_type": "stream",
          "name": "stdout",
          "text": [
            "El valor de la integral es: 0.7844587664601855\n",
            "El error estándar es: 0.0005593785486364159\n"
          ]
        }
      ]
    },
    {
      "cell_type": "code",
      "source": [
        "var_red=(1-((Var_cont()[1])**2)/((integral()[1])**2))*100\n",
        "print(\"Reducción de varianza (%):\",round(var_red,2))"
      ],
      "metadata": {
        "colab": {
          "base_uri": "https://localhost:8080/"
        },
        "id": "P6ZIDnPtw-cb",
        "outputId": "2f170bb4-390d-4ee3-96a7-8ab8638882e8"
      },
      "execution_count": 32,
      "outputs": [
        {
          "output_type": "stream",
          "name": "stdout",
          "text": [
            "Reducción de varianza (%): 98.7\n"
          ]
        }
      ]
    }
  ]
}